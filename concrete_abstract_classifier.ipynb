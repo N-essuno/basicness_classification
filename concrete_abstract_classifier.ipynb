{
 "cells": [
  {
   "cell_type": "markdown",
   "source": [
    "### Load words with concreteness score from xls file, train a classifier to classify words as concrete or abstract, save the classifier"
   ],
   "metadata": {
    "collapsed": false
   },
   "id": "ad96ced9fc4438b"
  },
  {
   "cell_type": "code",
   "execution_count": 6,
   "id": "57a5d9a6bbd6699",
   "metadata": {
    "collapsed": true,
    "ExecuteTime": {
     "end_time": "2024-04-16T10:25:49.128368900Z",
     "start_time": "2024-04-16T10:25:47.574083200Z"
    }
   },
   "outputs": [],
   "source": [
    "import numpy as np\n",
    "import spacy\n",
    "from nltk.corpus import wordnet as wn\n",
    "\n",
    "import pandas as pd\n",
    "import joblib\n",
    "from sklearn.linear_model import LogisticRegression\n",
    "from sklearn.model_selection import train_test_split\n",
    "from sklearn.linear_model import LinearRegression\n",
    "from sklearn.metrics import mean_squared_error\n",
    "\n",
    "# spacy.cli.download(\"en_core_web_md\")\n",
    "nlp = spacy.load(\"en_core_web_md\")"
   ]
  },
  {
   "cell_type": "code",
   "execution_count": 7,
   "outputs": [],
   "source": [
    "# TODO tune concreteness threshold\n",
    "concreteness_df = pd.read_excel(\"data/brysbaert_concreteness_ratings.xlsx\", na_filter=False)\n",
    "# extract list of words with concreteness >= 3 and < 3\n",
    "concrete_words = concreteness_df.query('conc_score >= 3')['word'].tolist()  # words with concreteness >= 3\n",
    "abstract_words = concreteness_df.query('conc_score < 3')['word'].tolist()  # words with concreteness < 3"
   ],
   "metadata": {
    "collapsed": false,
    "ExecuteTime": {
     "end_time": "2024-04-16T10:25:53.545282Z",
     "start_time": "2024-04-16T10:25:49.132280Z"
    }
   },
   "id": "225e196be864a6ef"
  },
  {
   "cell_type": "code",
   "execution_count": 8,
   "outputs": [
    {
     "name": "stdout",
     "output_type": "stream",
     "text": [
      "18776\n",
      "['accumulate', 'add', 'aerially', 'ahead', 'aiming', 'airless', 'alternation', 'anaphylactic', 'anatomically', 'annotate']\n",
      "\n",
      "21178\n",
      "['eh', 'essentialness', 'although', 'spirituality', 'would', 'spiritually', 'whatsoever', 'conceptualistic', 'conventionalism', 'belief']\n"
     ]
    }
   ],
   "source": [
    "print(len(concrete_words))\n",
    "print(concrete_words[:10])\n",
    "print()\n",
    "print(len(abstract_words))\n",
    "print(abstract_words[:10])"
   ],
   "metadata": {
    "collapsed": false,
    "ExecuteTime": {
     "end_time": "2024-04-16T10:25:53.575282Z",
     "start_time": "2024-04-16T10:25:53.551312200Z"
    }
   },
   "id": "initial_id"
  },
  {
   "cell_type": "code",
   "execution_count": 9,
   "outputs": [],
   "source": [
    "classes = ['concrete', 'abstract']\n",
    "train_set = []\n",
    "train_set.append(concrete_words)\n",
    "train_set.append(abstract_words)"
   ],
   "metadata": {
    "collapsed": false,
    "ExecuteTime": {
     "end_time": "2024-04-16T10:25:53.621283800Z",
     "start_time": "2024-04-16T10:25:53.565283400Z"
    }
   },
   "id": "f64c50482e1361b"
  },
  {
   "cell_type": "code",
   "execution_count": 10,
   "outputs": [],
   "source": [
    "from time import sleep\n",
    "\n",
    "# get word vectors list\n",
    "X = []\n",
    "index = 0\n",
    "for part in train_set:\n",
    "    for word in part:\n",
    "        X.append(nlp(word)[0].vector)"
   ],
   "metadata": {
    "collapsed": false,
    "ExecuteTime": {
     "end_time": "2024-04-16T10:29:31.645974700Z",
     "start_time": "2024-04-16T10:25:53.578283700Z"
    }
   },
   "id": "d4a534c8fe6ed123"
  },
  {
   "cell_type": "code",
   "execution_count": 11,
   "outputs": [
    {
     "name": "stderr",
     "output_type": "stream",
     "text": [
      "C:\\Users\\Gianl\\Desktop\\UniTo\\tln\\dicaro\\basicness_classification\\venv\\lib\\site-packages\\sklearn\\linear_model\\_logistic.py:469: ConvergenceWarning: lbfgs failed to converge (status=1):\n",
      "STOP: TOTAL NO. of ITERATIONS REACHED LIMIT.\n",
      "\n",
      "Increase the number of iterations (max_iter) or scale the data as shown in:\n",
      "    https://scikit-learn.org/stable/modules/preprocessing.html\n",
      "Please also refer to the documentation for alternative solver options:\n",
      "    https://scikit-learn.org/stable/modules/linear_model.html#logistic-regression\n",
      "  n_iter_i = _check_optimize_result(\n"
     ]
    }
   ],
   "source": [
    "# get labels\n",
    "y = [label for label, part in enumerate(train_set) for _ in part]\n",
    "classifier = LogisticRegression(C=0.1, class_weight='balanced').fit(X, y)"
   ],
   "metadata": {
    "collapsed": false,
    "ExecuteTime": {
     "end_time": "2024-04-16T10:29:33.695990600Z",
     "start_time": "2024-04-16T10:29:31.652975700Z"
    }
   },
   "id": "40ecc9c6fe434588"
  },
  {
   "cell_type": "code",
   "execution_count": 12,
   "outputs": [
    {
     "data": {
      "text/plain": "['trained_models/concrete_abstract_classifier.joblib']"
     },
     "execution_count": 12,
     "metadata": {},
     "output_type": "execute_result"
    }
   ],
   "source": [
    "# save classifier\n",
    "joblib.dump(classifier, \"trained_models/concrete_abstract_classifier.joblib\")"
   ],
   "metadata": {
    "collapsed": false,
    "ExecuteTime": {
     "end_time": "2024-04-16T10:29:33.754988400Z",
     "start_time": "2024-04-16T10:29:33.694990400Z"
    }
   },
   "id": "289a2d38fd4e8bbc"
  },
  {
   "cell_type": "code",
   "execution_count": 13,
   "outputs": [],
   "source": [
    "# load classifier\n",
    "classifier = joblib.load(\"trained_models/concrete_abstract_classifier.joblib\")"
   ],
   "metadata": {
    "collapsed": false,
    "ExecuteTime": {
     "end_time": "2024-04-16T10:29:33.770998500Z",
     "start_time": "2024-04-16T10:29:33.712991400Z"
    }
   },
   "id": "7a3b08270fb04f2b"
  },
  {
   "cell_type": "code",
   "execution_count": 14,
   "outputs": [
    {
     "name": "stdout",
     "output_type": "stream",
     "text": [
      "war -> 0 - concrete\n",
      "fiefdom -> 1 - abstract\n",
      "bed -> 0 - concrete\n",
      "return_on_invested_capital -> 1 - abstract\n",
      "texture -> 0 - concrete\n",
      "news -> 0 - concrete\n",
      "look -> 0 - concrete\n"
     ]
    }
   ],
   "source": [
    "synsets = ['war.n.01', 'fiefdom.n.01', 'bed.n.03', 'return_on_invested_capital.n.01', 'texture.n.02', 'news.n.01',\n",
    "           'look.n.02']\n",
    "\n",
    "for synset_str in synsets:\n",
    "    synset = wn.synset(synset_str)\n",
    "    synset_name = synset.lemma_names()[0]\n",
    "    synset_vector = list(nlp(synset_name))[0].vector\n",
    "    synset_class = classifier.predict([synset_vector])[0]\n",
    "    # print classification\n",
    "    print(f'{synset_name} -> {synset_class} - {classes[synset_class]}')"
   ],
   "metadata": {
    "collapsed": false,
    "ExecuteTime": {
     "end_time": "2024-04-16T10:29:33.833990600Z",
     "start_time": "2024-04-16T10:29:33.728993600Z"
    }
   },
   "id": "acbb37d7f68c49e9"
  },
  {
   "cell_type": "markdown",
   "source": [
    "### Regression version. Predicting concreteness score of a word."
   ],
   "metadata": {
    "collapsed": false
   },
   "id": "98b8c7d266c6c756"
  },
  {
   "cell_type": "code",
   "execution_count": 18,
   "outputs": [
    {
     "name": "stdout",
     "output_type": "stream",
     "text": [
      "<class 'list'>\n"
     ]
    }
   ],
   "source": [
    "new_y = concreteness_df['conc_score']"
   ],
   "metadata": {
    "collapsed": false,
    "ExecuteTime": {
     "end_time": "2024-04-16T10:30:26.342401500Z",
     "start_time": "2024-04-16T10:30:26.305405Z"
    }
   },
   "id": "d53f519a9986332"
  },
  {
   "cell_type": "code",
   "execution_count": 19,
   "outputs": [
    {
     "name": "stdout",
     "output_type": "stream",
     "text": [
      "Mean Squared Error: 0.9317894584297259\n"
     ]
    }
   ],
   "source": [
    "X_train, X_test, y_train, y_test = train_test_split(X, new_y, test_size=0.3, random_state=42)\n",
    "\n",
    "model = LinearRegression().fit(X_train, y_train)\n",
    "\n",
    "y_pred = model.predict(X_test)\n",
    "mse = mean_squared_error(y_test, y_pred)\n",
    "print(f'Mean Squared Error: {mse}')"
   ],
   "metadata": {
    "collapsed": false,
    "ExecuteTime": {
     "end_time": "2024-04-16T10:30:28.723085300Z",
     "start_time": "2024-04-16T10:30:27.206577800Z"
    }
   },
   "id": "4e2a2b8d1a8e7f99"
  }
 ],
 "metadata": {
  "kernelspec": {
   "display_name": "Python 3",
   "language": "python",
   "name": "python3"
  },
  "language_info": {
   "codemirror_mode": {
    "name": "ipython",
    "version": 2
   },
   "file_extension": ".py",
   "mimetype": "text/x-python",
   "name": "python",
   "nbconvert_exporter": "python",
   "pygments_lexer": "ipython2",
   "version": "2.7.6"
  }
 },
 "nbformat": 4,
 "nbformat_minor": 5
}
