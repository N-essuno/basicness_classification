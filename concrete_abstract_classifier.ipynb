{
 "cells": [
  {
   "cell_type": "markdown",
   "source": [
    "## Train a classifier to classify words as concrete or abstract\n",
    "\n",
    "1. Load words with concreteness score from xls file\n",
    "2. Train a classifier to classify words as concrete or abstract\n",
    "3. Save the classifier"
   ],
   "metadata": {
    "collapsed": false
   },
   "id": "ad96ced9fc4438b"
  },
  {
   "cell_type": "code",
   "execution_count": 92,
   "id": "57a5d9a6bbd6699",
   "metadata": {
    "collapsed": true,
    "ExecuteTime": {
     "end_time": "2024-04-17T09:38:46.831929900Z",
     "start_time": "2024-04-17T09:38:45.624950900Z"
    }
   },
   "outputs": [],
   "source": [
    "import os.path\n",
    "\n",
    "import spacy\n",
    "from nltk.corpus import wordnet as wn\n",
    "import json\n",
    "\n",
    "import pandas as pd\n",
    "import joblib\n",
    "from sklearn.linear_model import LogisticRegression\n",
    "from sklearn.model_selection import train_test_split\n",
    "from sklearn.linear_model import LinearRegression\n",
    "from sklearn.metrics import mean_squared_error, accuracy_score, classification_report\n",
    "\n",
    "\n",
    "# spacy.cli.download(\"en_core_web_md\")\n",
    "nlp = spacy.load(\"en_core_web_md\")"
   ]
  },
  {
   "cell_type": "markdown",
   "source": [
    "### 1. Load words with concreteness score from xls file\n",
    "\n",
    "The file contains a list of words with their concreteness score. The concreteness score is a value between 1 and 5.\n",
    "Words with a concreteness score >= 3 are considered concrete, while words with a concreteness score < 3 are considered abstract.\n",
    "These values can be tuned to test different thresholds."
   ],
   "metadata": {
    "collapsed": false
   },
   "id": "58bfacdb551e3c21"
  },
  {
   "cell_type": "code",
   "execution_count": 93,
   "outputs": [],
   "source": [
    "concreteness_df = pd.read_excel(\"data/brysbaert_concreteness_ratings.xlsx\", na_filter=False)\n",
    "# extract list of words with concreteness >= 3 and < 3\n",
    "concrete_words = concreteness_df.query('conc_score >= 3')['word'].to_list()\n",
    "abstract_words = concreteness_df.query('conc_score < 3')['word'].tolist()"
   ],
   "metadata": {
    "collapsed": false,
    "ExecuteTime": {
     "end_time": "2024-04-17T09:38:50.341927900Z",
     "start_time": "2024-04-17T09:38:46.834930100Z"
    }
   },
   "id": "225e196be864a6ef"
  },
  {
   "cell_type": "markdown",
   "source": [
    "Create file containing each word and its vector representation as a dictionary.\n",
    "If the file already exists, load it instead of creating a new one."
   ],
   "metadata": {
    "collapsed": false
   },
   "id": "5efc99bcb61059a"
  },
  {
   "cell_type": "code",
   "execution_count": 94,
   "outputs": [],
   "source": [
    "if not os.path.exists(\"data/concreteness_word_vectors.txt\"):\n",
    "    cols = ['word', 'vector']\n",
    "    word_vector_dict = {}\n",
    "    for word in concreteness_df['word']:\n",
    "        word_vector = nlp(word).vector.tolist()\n",
    "        word_vector_dict[word] = word_vector\n",
    "    \n",
    "    # save dictionary to file\n",
    "    with open(\"data/concreteness_word_vectors.txt\", \"w\") as file:\n",
    "        json.dump(word_vector_dict, file)\n",
    "else:\n",
    "    with open(\"data/concreteness_word_vectors.txt\", \"r\") as file:\n",
    "        word_vector_dict = json.load(file)"
   ],
   "metadata": {
    "collapsed": false,
    "ExecuteTime": {
     "end_time": "2024-04-17T09:38:55.074946200Z",
     "start_time": "2024-04-17T09:38:50.341927900Z"
    }
   },
   "id": "7b89c3ae8a830e76"
  },
  {
   "cell_type": "code",
   "execution_count": 95,
   "outputs": [
    {
     "name": "stdout",
     "output_type": "stream",
     "text": [
      "18776\n",
      "['accumulate', 'add', 'aerially', 'ahead', 'aiming', 'airless', 'alternation', 'anaphylactic', 'anatomically', 'annotate']\n",
      "\n",
      "21178\n",
      "['eh', 'essentialness', 'although', 'spirituality', 'would', 'spiritually', 'whatsoever', 'conceptualistic', 'conventionalism', 'belief']\n"
     ]
    }
   ],
   "source": [
    "print(len(concrete_words))\n",
    "print(concrete_words[:10])\n",
    "print()\n",
    "print(len(abstract_words))\n",
    "print(abstract_words[:10])"
   ],
   "metadata": {
    "collapsed": false,
    "ExecuteTime": {
     "end_time": "2024-04-17T09:38:55.097929700Z",
     "start_time": "2024-04-17T09:38:55.078986200Z"
    }
   },
   "id": "initial_id"
  },
  {
   "cell_type": "markdown",
   "source": [
    "### 2. Train a classifier to classify words as concrete or abstract\n",
    "\n",
    "#### 2.1. Prepare the data\n",
    "Create training data by combining the concrete and abstract words and their corresponding labels."
   ],
   "metadata": {
    "collapsed": false
   },
   "id": "29281fea7bd39023"
  },
  {
   "cell_type": "code",
   "execution_count": 96,
   "outputs": [],
   "source": [
    "classes = ['concrete', 'abstract']\n",
    "train_set = [concrete_words, abstract_words]"
   ],
   "metadata": {
    "collapsed": false,
    "ExecuteTime": {
     "end_time": "2024-04-17T09:38:55.136927400Z",
     "start_time": "2024-04-17T09:38:55.094928500Z"
    }
   },
   "id": "f64c50482e1361b"
  },
  {
   "cell_type": "markdown",
   "source": [
    "Convert the words to word vectors using spaCy to get a more meaningful representation of the words.\n",
    "Preparing labels for the words. Words with concreteness score >= 3 are labeled as 0 (concrete), while words with concreteness score < 3 are labeled as 1 (abstract).\n",
    "We now have a training set with word vectors and their corresponding labels."
   ],
   "metadata": {
    "collapsed": false
   },
   "id": "d53b144c3adb5287"
  },
  {
   "cell_type": "code",
   "execution_count": 97,
   "outputs": [],
   "source": [
    "# create word vector list\n",
    "X = []\n",
    "for part in train_set:\n",
    "    for word in part:\n",
    "        # get word vector for word\n",
    "        word_vector = word_vector_dict[word]\n",
    "        X.append(word_vector)\n",
    "        \n",
    "# get labels\n",
    "y = [0] * len(concrete_words) + [1] * len(abstract_words)"
   ],
   "metadata": {
    "collapsed": false,
    "ExecuteTime": {
     "end_time": "2024-04-17T09:38:55.150928900Z",
     "start_time": "2024-04-17T09:38:55.122928Z"
    }
   },
   "id": "d4a534c8fe6ed123"
  },
  {
   "cell_type": "markdown",
   "source": [
    "#### 2.2. Train the classifier"
   ],
   "metadata": {
    "collapsed": false
   },
   "id": "a53679c4116656bd"
  },
  {
   "cell_type": "code",
   "execution_count": 98,
   "outputs": [],
   "source": [
    "X_train, X_test, y_train, y_test = train_test_split(X, y, test_size=0.3, random_state=42)\n",
    "\n",
    "classifier = LogisticRegression(max_iter=500).fit(X_train, y_train)"
   ],
   "metadata": {
    "collapsed": false,
    "ExecuteTime": {
     "end_time": "2024-04-17T09:38:57.641928900Z",
     "start_time": "2024-04-17T09:38:55.140928700Z"
    }
   },
   "id": "40ecc9c6fe434588"
  },
  {
   "cell_type": "markdown",
   "source": [
    "#### 2.3. Evaluate and save the classifier"
   ],
   "metadata": {
    "collapsed": false
   },
   "id": "379b40182c04faee"
  },
  {
   "cell_type": "code",
   "execution_count": 99,
   "outputs": [
    {
     "name": "stdout",
     "output_type": "stream",
     "text": [
      "Accuracy score: 0.8082923166763994\n",
      "              precision    recall  f1-score   support\n",
      "\n",
      "           0       0.81      0.76      0.79      5614\n",
      "           1       0.80      0.85      0.82      6373\n",
      "\n",
      "    accuracy                           0.81     11987\n",
      "   macro avg       0.81      0.81      0.81     11987\n",
      "weighted avg       0.81      0.81      0.81     11987\n"
     ]
    }
   ],
   "source": [
    "y_pred = classifier.predict(X_test)\n",
    "print(f\"Accuracy score: {accuracy_score(y_test, y_pred)}\")\n",
    "print(classification_report(y_test, y_pred))"
   ],
   "metadata": {
    "collapsed": false,
    "ExecuteTime": {
     "end_time": "2024-04-17T09:38:57.819948200Z",
     "start_time": "2024-04-17T09:38:57.642928300Z"
    }
   },
   "id": "5576feb91af03727"
  },
  {
   "cell_type": "code",
   "execution_count": 100,
   "outputs": [
    {
     "data": {
      "text/plain": "['trained_models/concrete_abstract_classifier.joblib']"
     },
     "execution_count": 100,
     "metadata": {},
     "output_type": "execute_result"
    }
   ],
   "source": [
    "# save classifier\n",
    "joblib.dump(classifier, \"trained_models/concrete_abstract_classifier.joblib\")"
   ],
   "metadata": {
    "collapsed": false,
    "ExecuteTime": {
     "end_time": "2024-04-17T09:38:57.830928700Z",
     "start_time": "2024-04-17T09:38:57.816928300Z"
    }
   },
   "id": "289a2d38fd4e8bbc"
  },
  {
   "cell_type": "markdown",
   "source": [
    "#### 2.4. Sample use"
   ],
   "metadata": {
    "collapsed": false
   },
   "id": "93c4aae414bc1f48"
  },
  {
   "cell_type": "code",
   "execution_count": 101,
   "outputs": [],
   "source": [
    "# load classifier\n",
    "classifier = joblib.load(\"trained_models/concrete_abstract_classifier.joblib\")"
   ],
   "metadata": {
    "collapsed": false,
    "ExecuteTime": {
     "end_time": "2024-04-17T09:38:57.876340Z",
     "start_time": "2024-04-17T09:38:57.834929100Z"
    }
   },
   "id": "7a3b08270fb04f2b"
  },
  {
   "cell_type": "code",
   "execution_count": 102,
   "outputs": [
    {
     "name": "stdout",
     "output_type": "stream",
     "text": [
      "war -> 1 - abstract\n",
      "fiefdom -> 1 - abstract\n",
      "bed -> 0 - concrete\n",
      "return_on_invested_capital -> 1 - abstract\n",
      "texture -> 0 - concrete\n",
      "news -> 0 - concrete\n",
      "look -> 0 - concrete\n"
     ]
    }
   ],
   "source": [
    "synsets = ['war.n.01', 'fiefdom.n.01', 'bed.n.03', 'return_on_invested_capital.n.01', 'texture.n.02', 'news.n.01', 'look.n.02']\n",
    "\n",
    "for synset_str in synsets:\n",
    "    synset = wn.synset(synset_str)\n",
    "    synset_name = synset.lemma_names()[0]\n",
    "    synset_vector = list(nlp(synset_name))[0].vector\n",
    "    synset_class = classifier.predict([synset_vector])[0]\n",
    "    # print classification\n",
    "    print(f'{synset_name} -> {synset_class} - {classes[synset_class]}')"
   ],
   "metadata": {
    "collapsed": false,
    "ExecuteTime": {
     "end_time": "2024-04-17T09:38:57.897337500Z",
     "start_time": "2024-04-17T09:38:57.849280700Z"
    }
   },
   "id": "acbb37d7f68c49e9"
  },
  {
   "cell_type": "markdown",
   "source": [
    "### 3. Regression model version\n",
    "\n",
    "We predict now the concreteness score of a word"
   ],
   "metadata": {
    "collapsed": false
   },
   "id": "98b8c7d266c6c756"
  },
  {
   "cell_type": "code",
   "execution_count": 103,
   "outputs": [],
   "source": [
    "words = concreteness_df['word'].tolist()\n",
    "concreteness_scores = concreteness_df['conc_score'].tolist()\n",
    "X = []\n",
    "y = concreteness_scores\n",
    "\n",
    "for word in words:\n",
    "    # get word vector for word\n",
    "    word_vector = word_vector_dict[word]\n",
    "    X.append(word_vector)"
   ],
   "metadata": {
    "collapsed": false,
    "ExecuteTime": {
     "end_time": "2024-04-17T09:38:57.930280300Z",
     "start_time": "2024-04-17T09:38:57.909282600Z"
    }
   },
   "id": "d53f519a9986332"
  },
  {
   "cell_type": "code",
   "execution_count": 104,
   "outputs": [
    {
     "name": "stdout",
     "output_type": "stream",
     "text": [
      "eh -> 1.04\n",
      "essentialness -> 1.04\n",
      "although -> 1.07\n",
      "spirituality -> 1.07\n",
      "would -> 1.12\n",
      "spiritually -> 1.14\n",
      "whatsoever -> 1.17\n",
      "conceptualistic -> 1.18\n",
      "conventionalism -> 1.18\n",
      "belief -> 1.19\n"
     ]
    }
   ],
   "source": [
    "# print the first 10 words alog with their concreteness scores\n",
    "for i in range(10):\n",
    "    print(f'{words[i]} -> {y[i]}')"
   ],
   "metadata": {
    "collapsed": false,
    "ExecuteTime": {
     "end_time": "2024-04-17T09:38:57.942304100Z",
     "start_time": "2024-04-17T09:38:57.927290100Z"
    }
   },
   "id": "d37d804e183e5917"
  },
  {
   "cell_type": "code",
   "execution_count": 105,
   "outputs": [
    {
     "name": "stdout",
     "output_type": "stream",
     "text": [
      "Mean Squared Error: 0.47152531458015673\n"
     ]
    }
   ],
   "source": [
    "X_train, X_test, y_train, y_test = train_test_split(X, y, test_size=0.3, random_state=42)\n",
    "\n",
    "model = LinearRegression().fit(X_train, y_train)\n",
    "\n",
    "y_pred = model.predict(X_test)\n",
    "mse = mean_squared_error(y_test, y_pred)\n",
    "print(f'Mean Squared Error: {mse}')"
   ],
   "metadata": {
    "collapsed": false,
    "ExecuteTime": {
     "end_time": "2024-04-17T09:38:58.762280300Z",
     "start_time": "2024-04-17T09:38:57.945280600Z"
    }
   },
   "id": "4e2a2b8d1a8e7f99"
  },
  {
   "cell_type": "code",
   "execution_count": 106,
   "outputs": [
    {
     "data": {
      "text/plain": "['trained_models/concreteness_regression_model.joblib']"
     },
     "execution_count": 106,
     "metadata": {},
     "output_type": "execute_result"
    }
   ],
   "source": [
    "# save model\n",
    "joblib.dump(model, \"trained_models/concreteness_regression_model.joblib\")"
   ],
   "metadata": {
    "collapsed": false,
    "ExecuteTime": {
     "end_time": "2024-04-17T09:38:58.806940300Z",
     "start_time": "2024-04-17T09:38:58.764293800Z"
    }
   },
   "id": "d4faab236c28c2be"
  }
 ],
 "metadata": {
  "kernelspec": {
   "display_name": "Python 3",
   "language": "python",
   "name": "python3"
  },
  "language_info": {
   "codemirror_mode": {
    "name": "ipython",
    "version": 2
   },
   "file_extension": ".py",
   "mimetype": "text/x-python",
   "name": "python",
   "nbconvert_exporter": "python",
   "pygments_lexer": "ipython2",
   "version": "2.7.6"
  }
 },
 "nbformat": 4,
 "nbformat_minor": 5
}
